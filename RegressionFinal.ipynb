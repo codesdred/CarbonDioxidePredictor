{
 "cells": [
  {
   "cell_type": "code",
   "execution_count": 1,
   "id": "37996aad",
   "metadata": {},
   "outputs": [],
   "source": [
    "import numpy as np\n",
    "import pandas as pd\n",
    "import matplotlib.pyplot as plt\n",
    "import seaborn as sns"
   ]
  },
  {
   "cell_type": "code",
   "execution_count": 2,
   "id": "d3c61f91",
   "metadata": {},
   "outputs": [],
   "source": [
    "\n",
    "\n",
    "def country(data1):\n",
    "    # Process the input data here\n",
    "    result = data1  # For example, converting the input to uppercase\n",
    "    return result\n",
    "def year(data2):\n",
    "    # Process the input data here\n",
    "    result = int(data2)  # For example, converting the input to uppercase\n",
    "    return result\n",
    "\n",
    "dataset = pd.read_csv('emissiondata.csv')"
   ]
  },
  {
   "cell_type": "code",
   "execution_count": 3,
   "id": "77bfb688",
   "metadata": {},
   "outputs": [],
   "source": [
    "dataset.replace('NaN',np.nan,inplace=True)\n",
    "dataset.replace(np.nan,0,inplace=True)"
   ]
  },
  {
   "cell_type": "code",
   "execution_count": 4,
   "id": "0cf9aabc",
   "metadata": {},
   "outputs": [],
   "source": [
    "dataset = dataset.loc[dataset[\"CO2 emission (Tons)\"] != 0]"
   ]
  },
  {
   "cell_type": "code",
   "execution_count": 5,
   "id": "412e4309",
   "metadata": {},
   "outputs": [],
   "source": [
    "country = country()\n",
    "year = year()\n"
   ]
  },
  {
   "cell_type": "code",
   "execution_count": 6,
   "id": "6f63ca5a",
   "metadata": {},
   "outputs": [],
   "source": [
    "newdata = dataset.loc[dataset[\"Country\"]==country]"
   ]
  },
  {
   "cell_type": "code",
   "execution_count": 7,
   "id": "eeb2835c",
   "metadata": {},
   "outputs": [
    {
     "name": "stderr",
     "output_type": "stream",
     "text": [
      "C:\\Users\\SD\\AppData\\Local\\Temp\\ipykernel_17204\\4254652316.py:1: SettingWithCopyWarning: \n",
      "A value is trying to be set on a copy of a slice from a DataFrame.\n",
      "Try using .loc[row_indexer,col_indexer] = value instead\n",
      "\n",
      "See the caveats in the documentation: https://pandas.pydata.org/pandas-docs/stable/user_guide/indexing.html#returning-a-view-versus-a-copy\n",
      "  newdata['Year'] = (newdata['Year']-1750)/270\n"
     ]
    }
   ],
   "source": [
    "newdata['Year'] = (newdata['Year']-1750)/270"
   ]
  },
  {
   "cell_type": "code",
   "execution_count": 8,
   "id": "333cbae9",
   "metadata": {},
   "outputs": [
    {
     "name": "stderr",
     "output_type": "stream",
     "text": [
      "C:\\Users\\SD\\AppData\\Local\\Temp\\ipykernel_17204\\1619391986.py:1: SettingWithCopyWarning: \n",
      "A value is trying to be set on a copy of a slice from a DataFrame.\n",
      "Try using .loc[row_indexer,col_indexer] = value instead\n",
      "\n",
      "See the caveats in the documentation: https://pandas.pydata.org/pandas-docs/stable/user_guide/indexing.html#returning-a-view-versus-a-copy\n",
      "  newdata['CO2 emission (Tons)'] = (newdata['CO2 emission (Tons)']-newdata['CO2 emission (Tons)'].min())/(newdata['CO2 emission (Tons)'].max()-newdata['CO2 emission (Tons)'].min())\n"
     ]
    }
   ],
   "source": [
    "newdata['CO2 emission (Tons)'] = (newdata['CO2 emission (Tons)']-newdata['CO2 emission (Tons)'].min())/(newdata['CO2 emission (Tons)'].max()-newdata['CO2 emission (Tons)'].min())"
   ]
  },
  {
   "cell_type": "code",
   "execution_count": 9,
   "id": "2dedfbe0",
   "metadata": {},
   "outputs": [],
   "source": [
    "X = newdata.iloc[:,4].values\n",
    "Y = newdata.iloc[:,5].values"
   ]
  },
  {
   "cell_type": "code",
   "execution_count": 10,
   "id": "f4d58a4c",
   "metadata": {
    "scrolled": true
   },
   "outputs": [
    {
     "data": {
      "text/plain": [
       "array([[0.00000000e+00],\n",
       "       [0.00000000e+00],\n",
       "       [0.00000000e+00],\n",
       "       [4.03661180e-07],\n",
       "       [8.72529166e-06],\n",
       "       [1.75747868e-05],\n",
       "       [2.73092314e-05],\n",
       "       [9.98129894e-05],\n",
       "       [1.71167866e-04],\n",
       "       [2.67487633e-04],\n",
       "       [3.55780754e-04],\n",
       "       [4.35224379e-04],\n",
       "       [5.53217647e-04],\n",
       "       [5.94686071e-04],\n",
       "       [6.40268733e-04],\n",
       "       [7.04280081e-04],\n",
       "       [7.72452244e-04],\n",
       "       [8.48573427e-04],\n",
       "       [9.32690207e-04],\n",
       "       [1.02185275e-03],\n",
       "       [1.12463110e-03],\n",
       "       [1.23805989e-03],\n",
       "       [1.34521641e-03],\n",
       "       [1.45807076e-03],\n",
       "       [1.59430641e-03],\n",
       "       [1.74300897e-03],\n",
       "       [1.88377805e-03],\n",
       "       [2.00916142e-03],\n",
       "       [2.15121911e-03],\n",
       "       [2.29574314e-03],\n",
       "       [2.44745581e-03],\n",
       "       [2.60808263e-03],\n",
       "       [2.77859422e-03],\n",
       "       [2.94208813e-03],\n",
       "       [3.12087752e-03],\n",
       "       [3.32958167e-03],\n",
       "       [3.57363519e-03],\n",
       "       [3.84886906e-03],\n",
       "       [4.10518526e-03],\n",
       "       [4.33951843e-03],\n",
       "       [4.62389735e-03],\n",
       "       [4.98850182e-03],\n",
       "       [5.44408493e-03],\n",
       "       [5.92603695e-03],\n",
       "       [6.33781130e-03],\n",
       "       [6.75208633e-03],\n",
       "       [6.96542144e-03],\n",
       "       [7.09787491e-03],\n",
       "       [7.24005077e-03],\n",
       "       [7.34105226e-03],\n",
       "       [7.59257941e-03],\n",
       "       [7.92662737e-03],\n",
       "       [8.35931912e-03],\n",
       "       [8.90168937e-03],\n",
       "       [9.46856622e-03],\n",
       "       [1.01502504e-02],\n",
       "       [1.09575451e-02],\n",
       "       [1.18720539e-02],\n",
       "       [1.29558889e-02],\n",
       "       [1.51788434e-02],\n",
       "       [1.82303343e-02],\n",
       "       [2.16150811e-02],\n",
       "       [2.40330066e-02],\n",
       "       [2.59805416e-02],\n",
       "       [2.79160485e-02],\n",
       "       [2.98679014e-02],\n",
       "       [3.19877597e-02],\n",
       "       [3.43159781e-02],\n",
       "       [3.62660886e-02],\n",
       "       [3.83656936e-02],\n",
       "       [4.09406241e-02],\n",
       "       [4.43641536e-02],\n",
       "       [4.82167386e-02],\n",
       "       [5.23211708e-02],\n",
       "       [5.65935987e-02],\n",
       "       [6.09499558e-02],\n",
       "       [6.59635805e-02],\n",
       "       [7.11602829e-02],\n",
       "       [7.68417730e-02],\n",
       "       [8.31671054e-02],\n",
       "       [8.96317739e-02],\n",
       "       [9.59643861e-02],\n",
       "       [1.02220693e-01],\n",
       "       [1.09028259e-01],\n",
       "       [1.16207147e-01],\n",
       "       [1.24024218e-01],\n",
       "       [1.32490675e-01],\n",
       "       [1.41406836e-01],\n",
       "       [1.50973529e-01],\n",
       "       [1.61252743e-01],\n",
       "       [1.71691961e-01],\n",
       "       [1.82221011e-01],\n",
       "       [1.93263796e-01],\n",
       "       [2.04834934e-01],\n",
       "       [2.17214816e-01],\n",
       "       [2.30350423e-01],\n",
       "       [2.44578857e-01],\n",
       "       [2.59423073e-01],\n",
       "       [2.74296678e-01],\n",
       "       [2.88535902e-01],\n",
       "       [3.02732264e-01],\n",
       "       [3.17304949e-01],\n",
       "       [3.32198742e-01],\n",
       "       [3.48608051e-01],\n",
       "       [3.67866592e-01],\n",
       "       [3.90001154e-01],\n",
       "       [4.14901823e-01],\n",
       "       [4.40677740e-01],\n",
       "       [4.70338769e-01],\n",
       "       [5.04237088e-01],\n",
       "       [5.38135407e-01],\n",
       "       [5.72033726e-01],\n",
       "       [6.14406624e-01],\n",
       "       [6.56779522e-01],\n",
       "       [6.99152421e-01],\n",
       "       [7.41525319e-01],\n",
       "       [7.79660928e-01],\n",
       "       [8.22033826e-01],\n",
       "       [8.64406725e-01],\n",
       "       [9.06779623e-01],\n",
       "       [9.53389812e-01],\n",
       "       [1.00000000e+00]])"
      ]
     },
     "execution_count": 10,
     "metadata": {},
     "output_type": "execute_result"
    }
   ],
   "source": [
    "Y.reshape(len(Y),1)"
   ]
  },
  {
   "cell_type": "code",
   "execution_count": 11,
   "id": "ded47bd2",
   "metadata": {},
   "outputs": [
    {
     "data": {
      "text/html": [
       "<style>#sk-container-id-1 {color: black;background-color: white;}#sk-container-id-1 pre{padding: 0;}#sk-container-id-1 div.sk-toggleable {background-color: white;}#sk-container-id-1 label.sk-toggleable__label {cursor: pointer;display: block;width: 100%;margin-bottom: 0;padding: 0.3em;box-sizing: border-box;text-align: center;}#sk-container-id-1 label.sk-toggleable__label-arrow:before {content: \"▸\";float: left;margin-right: 0.25em;color: #696969;}#sk-container-id-1 label.sk-toggleable__label-arrow:hover:before {color: black;}#sk-container-id-1 div.sk-estimator:hover label.sk-toggleable__label-arrow:before {color: black;}#sk-container-id-1 div.sk-toggleable__content {max-height: 0;max-width: 0;overflow: hidden;text-align: left;background-color: #f0f8ff;}#sk-container-id-1 div.sk-toggleable__content pre {margin: 0.2em;color: black;border-radius: 0.25em;background-color: #f0f8ff;}#sk-container-id-1 input.sk-toggleable__control:checked~div.sk-toggleable__content {max-height: 200px;max-width: 100%;overflow: auto;}#sk-container-id-1 input.sk-toggleable__control:checked~label.sk-toggleable__label-arrow:before {content: \"▾\";}#sk-container-id-1 div.sk-estimator input.sk-toggleable__control:checked~label.sk-toggleable__label {background-color: #d4ebff;}#sk-container-id-1 div.sk-label input.sk-toggleable__control:checked~label.sk-toggleable__label {background-color: #d4ebff;}#sk-container-id-1 input.sk-hidden--visually {border: 0;clip: rect(1px 1px 1px 1px);clip: rect(1px, 1px, 1px, 1px);height: 1px;margin: -1px;overflow: hidden;padding: 0;position: absolute;width: 1px;}#sk-container-id-1 div.sk-estimator {font-family: monospace;background-color: #f0f8ff;border: 1px dotted black;border-radius: 0.25em;box-sizing: border-box;margin-bottom: 0.5em;}#sk-container-id-1 div.sk-estimator:hover {background-color: #d4ebff;}#sk-container-id-1 div.sk-parallel-item::after {content: \"\";width: 100%;border-bottom: 1px solid gray;flex-grow: 1;}#sk-container-id-1 div.sk-label:hover label.sk-toggleable__label {background-color: #d4ebff;}#sk-container-id-1 div.sk-serial::before {content: \"\";position: absolute;border-left: 1px solid gray;box-sizing: border-box;top: 0;bottom: 0;left: 50%;z-index: 0;}#sk-container-id-1 div.sk-serial {display: flex;flex-direction: column;align-items: center;background-color: white;padding-right: 0.2em;padding-left: 0.2em;position: relative;}#sk-container-id-1 div.sk-item {position: relative;z-index: 1;}#sk-container-id-1 div.sk-parallel {display: flex;align-items: stretch;justify-content: center;background-color: white;position: relative;}#sk-container-id-1 div.sk-item::before, #sk-container-id-1 div.sk-parallel-item::before {content: \"\";position: absolute;border-left: 1px solid gray;box-sizing: border-box;top: 0;bottom: 0;left: 50%;z-index: -1;}#sk-container-id-1 div.sk-parallel-item {display: flex;flex-direction: column;z-index: 1;position: relative;background-color: white;}#sk-container-id-1 div.sk-parallel-item:first-child::after {align-self: flex-end;width: 50%;}#sk-container-id-1 div.sk-parallel-item:last-child::after {align-self: flex-start;width: 50%;}#sk-container-id-1 div.sk-parallel-item:only-child::after {width: 0;}#sk-container-id-1 div.sk-dashed-wrapped {border: 1px dashed gray;margin: 0 0.4em 0.5em 0.4em;box-sizing: border-box;padding-bottom: 0.4em;background-color: white;}#sk-container-id-1 div.sk-label label {font-family: monospace;font-weight: bold;display: inline-block;line-height: 1.2em;}#sk-container-id-1 div.sk-label-container {text-align: center;}#sk-container-id-1 div.sk-container {/* jupyter's `normalize.less` sets `[hidden] { display: none; }` but bootstrap.min.css set `[hidden] { display: none !important; }` so we also need the `!important` here to be able to override the default hidden behavior on the sphinx rendered scikit-learn.org. See: https://github.com/scikit-learn/scikit-learn/issues/21755 */display: inline-block !important;position: relative;}#sk-container-id-1 div.sk-text-repr-fallback {display: none;}</style><div id=\"sk-container-id-1\" class=\"sk-top-container\"><div class=\"sk-text-repr-fallback\"><pre>LinearRegression()</pre><b>In a Jupyter environment, please rerun this cell to show the HTML representation or trust the notebook. <br />On GitHub, the HTML representation is unable to render, please try loading this page with nbviewer.org.</b></div><div class=\"sk-container\" hidden><div class=\"sk-item\"><div class=\"sk-estimator sk-toggleable\"><input class=\"sk-toggleable__control sk-hidden--visually\" id=\"sk-estimator-id-1\" type=\"checkbox\" checked><label for=\"sk-estimator-id-1\" class=\"sk-toggleable__label sk-toggleable__label-arrow\">LinearRegression</label><div class=\"sk-toggleable__content\"><pre>LinearRegression()</pre></div></div></div></div></div>"
      ],
      "text/plain": [
       "LinearRegression()"
      ]
     },
     "execution_count": 11,
     "metadata": {},
     "output_type": "execute_result"
    }
   ],
   "source": [
    "from sklearn.linear_model import LinearRegression\n",
    "from sklearn.preprocessing import PolynomialFeatures\n",
    "poly_reg = PolynomialFeatures(degree = 10)\n",
    "X_poly = poly_reg.fit_transform(X.reshape(len(X),1))\n",
    "lin_reg_poly = LinearRegression()\n",
    "lin_reg_poly.fit(X_poly,Y)"
   ]
  },
  {
   "cell_type": "code",
   "execution_count": null,
   "id": "7ce9f86a",
   "metadata": {},
   "outputs": [],
   "source": [
    "year = 1750\n",
    "Y_pred = lin_reg_poly.predict(poly_reg.fit_transform([[(year-1750)/270]]))"
   ]
  },
  {
   "cell_type": "code",
   "execution_count": 14,
   "id": "595e540e",
   "metadata": {},
   "outputs": [],
   "source": [
    "outcome = Y_pred"
   ]
  },
  {
   "cell_type": "code",
   "execution_count": 15,
   "id": "845c4d2a",
   "metadata": {},
   "outputs": [
    {
     "name": "stdout",
     "output_type": "stream",
     "text": [
      "[0.04378253]\n"
     ]
    }
   ],
   "source": [
    "print(outcome)"
   ]
  },
  {
   "cell_type": "code",
   "execution_count": 16,
   "id": "3881b86d",
   "metadata": {
    "scrolled": true
   },
   "outputs": [
    {
     "data": {
      "image/png": "[encoded data removed]",
      "text/plain": [
       "<Figure size 640x480 with 1 Axes>"
      ]
     },
     "metadata": {},
     "output_type": "display_data"
    }
   ],
   "source": [
    "plt.scatter(X,Y)\n",
    "plt.scatter((year-1750)/270 , Y_pred)\n",
    "plt.show()"
   ]
  },
  {
   "cell_type": "code",
   "execution_count": 17,
   "id": "91612467",
   "metadata": {},
   "outputs": [],
   "source": [
    "import pickle\n",
    "pickle.dump(lin_reg_poly , open(\"RegressionFinal.pkl\", \"wb\"))"
   ]
  },
  {
   "cell_type": "code",
   "execution_count": null,
   "id": "f3f9c2f7",
   "metadata": {},
   "outputs": [],
   "source": []
  }
 ],
 "metadata": {
  "kernelspec": {
   "display_name": "Python 3 (ipykernel)",
   "language": "python",
   "name": "python3"
  },
  "language_info": {
   "codemirror_mode": {
    "name": "ipython",
    "version": 3
   },
   "file_extension": ".py",
   "mimetype": "text/x-python",
   "name": "python",
   "nbconvert_exporter": "python",
   "pygments_lexer": "ipython3",
   "version": "3.11.3"
  }
 },
 "nbformat": 4,
 "nbformat_minor": 5
}
